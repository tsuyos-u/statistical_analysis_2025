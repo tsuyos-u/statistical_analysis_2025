{
  "nbformat": 4,
  "nbformat_minor": 0,
  "metadata": {
    "colab": {
      "provenance": [],
      "collapsed_sections": [
        "fhzLn3Z_t0vr",
        "GFJUgBwC4b8Y",
        "hDHmiUEDHHVe",
        "kkNAer6NPDhp",
        "e-i3z8F8n0AD"
      ],
      "authorship_tag": "ABX9TyP4NfjTN4iGwgJyO2rBF8ac",
      "include_colab_link": true
    },
    "kernelspec": {
      "name": "python3",
      "display_name": "Python 3"
    },
    "language_info": {
      "name": "python"
    }
  },
  "cells": [
    {
      "cell_type": "markdown",
      "metadata": {
        "id": "view-in-github",
        "colab_type": "text"
      },
      "source": [
        "<a href=\"https://colab.research.google.com/github/tsuyos-u/statistical_analysis_2025/blob/master/notebooks/%E7%AC%AC01%E5%9B%9E/20250608_%E7%B5%B1%E8%A8%88%E5%88%86%E6%9E%90%E8%AB%96_%E7%AC%AC01%E5%9B%9E%E7%9B%AE_%E3%81%AF%E3%81%98%E3%82%81%E3%81%A6%E3%81%AEPython.ipynb\" target=\"_parent\"><img src=\"https://colab.research.google.com/assets/colab-badge.svg\" alt=\"Open In Colab\"/></a>"
      ]
    },
    {
      "cell_type": "markdown",
      "source": [
        "# 20250605 統計分析論 はじめてのPython\n",
        "\n",
        "このノートブックでは, 次の内容について説明をおこないます.\n",
        "1. **Hello World !!**\n",
        "2. **Pythonを電卓として使う**\n",
        "3. **変数**\n",
        "4. **データ構造**\n",
        "5. **条件分岐とループ**\n",
        "6. **関数**\n"
      ],
      "metadata": {
        "id": "ztO8XCiRqwEk"
      }
    },
    {
      "cell_type": "markdown",
      "source": [
        "## 01. Hello World !\n",
        "\n",
        "はじめてのプログラムとして，表示をする方法を学んでもらいます.\n",
        "\n",
        "**ここで学ぶべきこと**\n",
        "1. セルの実行の仕方\n",
        "2. コメントの2つの書き方\n",
        "  1. ```# hogehoge```\n",
        "  2. ``` \"\"\" hoge hoge  \"\"\" ```"
      ],
      "metadata": {
        "id": "fhzLn3Z_t0vr"
      }
    },
    {
      "cell_type": "code",
      "source": [
        "# \" \" で区切ると文字が書ける. 実行するときは shift + return\n",
        "\"Hello World !\""
      ],
      "metadata": {
        "colab": {
          "base_uri": "https://localhost:8080/",
          "height": 35
        },
        "id": "hOmR-WpT0-yW",
        "outputId": "3c04179e-b70c-4c75-db08-bd3f32166f6d"
      },
      "execution_count": 27,
      "outputs": [
        {
          "output_type": "execute_result",
          "data": {
            "text/plain": [
              "'Hello World !'"
            ],
            "application/vnd.google.colaboratory.intrinsic+json": {
              "type": "string"
            }
          },
          "metadata": {},
          "execution_count": 27
        }
      ]
    },
    {
      "cell_type": "code",
      "metadata": {
        "colab": {
          "base_uri": "https://localhost:8080/",
          "height": 35
        },
        "id": "77e6f139",
        "outputId": "c39329d5-c3bc-442f-bdb3-c1c5f8f4705e"
      },
      "source": [
        "# ' ' で区切っても文字がかける\n",
        "'Hello World !'"
      ],
      "execution_count": 2,
      "outputs": [
        {
          "output_type": "execute_result",
          "data": {
            "text/plain": [
              "'Hello World !'"
            ],
            "application/vnd.google.colaboratory.intrinsic+json": {
              "type": "string"
            }
          },
          "metadata": {},
          "execution_count": 2
        }
      ]
    },
    {
      "cell_type": "code",
      "source": [
        "# 以下のようにすると結果は最後しか表示されない\n",
        "\"Hello World 1\"\n",
        "\"Hello World 2\""
      ],
      "metadata": {
        "colab": {
          "base_uri": "https://localhost:8080/",
          "height": 35
        },
        "id": "Y6nT30t4qoff",
        "outputId": "c9bed873-42d0-4a12-b74e-8093cf1cb613"
      },
      "execution_count": 3,
      "outputs": [
        {
          "output_type": "execute_result",
          "data": {
            "text/plain": [
              "'Hello World 2'"
            ],
            "application/vnd.google.colaboratory.intrinsic+json": {
              "type": "string"
            }
          },
          "metadata": {},
          "execution_count": 3
        }
      ]
    },
    {
      "cell_type": "code",
      "source": [
        "# print を使うと最後だけでなく両方表示できる\n",
        "print(\"Hello World 1\")\n",
        "print(\"Hello World 2\")"
      ],
      "metadata": {
        "colab": {
          "base_uri": "https://localhost:8080/"
        },
        "id": "xSjmAWNMtofw",
        "outputId": "97af62c7-1d0f-4161-87c2-76876f0b2930"
      },
      "execution_count": 4,
      "outputs": [
        {
          "output_type": "stream",
          "name": "stdout",
          "text": [
            "Hello World 1\n",
            "Hello World 2\n"
          ]
        }
      ]
    },
    {
      "cell_type": "code",
      "source": [
        "# 以下のように打つと．．．どうなる?\n",
        "# Hello World"
      ],
      "metadata": {
        "id": "1zpowcRH3HIs"
      },
      "execution_count": 5,
      "outputs": []
    },
    {
      "cell_type": "markdown",
      "source": [
        "## 02. Pythonを電卓として使う\n",
        "\n",
        "ここでは，Pythonの基本演算子について学んでもらいます\n",
        "\n",
        "**ここで学ぶべきこと**\n",
        "1. **４則演算** (重要度 星3)\n",
        "2. **剰余算** (重要度 星3)\n",
        "3. **累乗** (重要度 星3)\n",
        "4. 文字列の掛け算 (重要度 星1)"
      ],
      "metadata": {
        "id": "GFJUgBwC4b8Y"
      }
    },
    {
      "cell_type": "code",
      "source": [
        "# 足し算 (重要度: 星3)\n",
        "print(\"10 + 6 = \", 10 + 6)\n",
        "\n",
        "# 引き算 (重要度: 星3)\n",
        "print(\"10-2 =\", 10 - 2)\n",
        "\n",
        "# 割り算 (重要度: 星3)\n",
        "print(\"10/2 =\", 10 / 2)\n",
        "\n",
        "# 整数の割り算で余りの計算 (重要度: 星3)\n",
        "# 商を計算\n",
        "print(\"商:\", 11 // 2)\n",
        "\n",
        "# 余りを計算\n",
        "print(\"剰余:\", 11 % 2)"
      ],
      "metadata": {
        "colab": {
          "base_uri": "https://localhost:8080/"
        },
        "id": "f1VPP1W7SK08",
        "outputId": "3bed04f3-1563-4d6f-ea9b-d8774d079488"
      },
      "execution_count": 48,
      "outputs": [
        {
          "output_type": "stream",
          "name": "stdout",
          "text": [
            "10 + 6 =  16\n",
            "10-2 = 8\n",
            "10/2 = 5.0\n",
            "商: 5\n",
            "剰余: 1\n"
          ]
        }
      ]
    },
    {
      "cell_type": "code",
      "source": [
        "# 浮動小数点 (重要度: 星3)\n",
        "print(\"10.44 * 25 = \", 10.44 * 25)\n",
        "\n",
        "# 累乗 (重要度: 星3)\n",
        "print(\"2^5= \", 2**5)\n",
        "\n",
        "# 浮動小数点の商と余り (重要度: 星1)\n",
        "print(\"11.6を2で割った商 =\", 11.6 // 2)\n",
        "print(\"11.6を2で割った剰余 =\", 11.6 % 2)\n",
        "\n",
        "# 大きい数を扱うときはこんな書き方もできます (重要度: 星1)\n",
        "print(1e8 * 5)"
      ],
      "metadata": {
        "colab": {
          "base_uri": "https://localhost:8080/"
        },
        "id": "C8GhvhjapQm1",
        "outputId": "cae9a58a-9e50-4a1f-f701-f42f5d0ac866"
      },
      "execution_count": 57,
      "outputs": [
        {
          "output_type": "stream",
          "name": "stdout",
          "text": [
            "10.44 * 25 =  261.0\n",
            "2^5=  32\n",
            "11.6を2で割った商 = 5.0\n",
            "11.6を2で割った剰余 = 1.5999999999999996\n",
            "500000000.0\n"
          ]
        }
      ]
    },
    {
      "cell_type": "code",
      "source": [
        "# おまけ・こんなこともできる (重要度: 星0)\n",
        "print(\"統計分析論 \" * 2)\n",
        "print(\"統計\" + \"分析論\")"
      ],
      "metadata": {
        "colab": {
          "base_uri": "https://localhost:8080/"
        },
        "id": "kJ0cJgyPt9_1",
        "outputId": "ca988f0e-c4e8-4574-af64-22a99317f789",
        "collapsed": true
      },
      "execution_count": 59,
      "outputs": [
        {
          "output_type": "stream",
          "name": "stdout",
          "text": [
            "統計分析論 統計分析論 \n",
            "統計分析論\n"
          ]
        }
      ]
    },
    {
      "cell_type": "markdown",
      "source": [
        "## 03. 変数を定義する\n",
        "\n",
        "ここでは，変数，ならびに変数の型について学んでもらいます\n",
        "\n",
        "**ここで学ぶべきこと**\n",
        "1. 整数型 (重要度 星３)\n",
        "2. 浮動小数点型 (重要度 星３)\n",
        "3. 文字列型 (重要度 星３)\n",
        "4. ブール型 (重要度 星３)"
      ],
      "metadata": {
        "id": "hDHmiUEDHHVe"
      }
    },
    {
      "cell_type": "code",
      "source": [
        "# 3.1 整数型\n",
        "\n",
        "x = 10\n",
        "print(\"x = \", x)\n",
        "print(\"type(x) は\", type(x))"
      ],
      "metadata": {
        "colab": {
          "base_uri": "https://localhost:8080/"
        },
        "id": "rVc6Hkmqu_zI",
        "outputId": "333ab98f-61ed-4976-eddd-c783315109e4"
      },
      "execution_count": 63,
      "outputs": [
        {
          "output_type": "stream",
          "name": "stdout",
          "text": [
            "x =  10\n",
            "type(x) は <class 'int'>\n"
          ]
        }
      ]
    },
    {
      "cell_type": "code",
      "source": [
        "# 3.2 浮動小数点型: float型\n",
        "x = 10.0\n",
        "print(\"x = \", x)\n",
        "print(\"type(x) は\", type(x))\n",
        "\n",
        "x = int(10.4)\n",
        "print(\"x = \", x)\n",
        "print(\"type(x) は\", type(x))\n",
        "\n",
        "x = float(1)\n",
        "print(\"x = \", x)\n",
        "print(\"type(x) は\", type(x))"
      ],
      "metadata": {
        "colab": {
          "base_uri": "https://localhost:8080/"
        },
        "id": "03VTZhPkyu1F",
        "outputId": "1150394c-3666-4286-e0d8-a18e6b8deac1"
      },
      "execution_count": 67,
      "outputs": [
        {
          "output_type": "stream",
          "name": "stdout",
          "text": [
            "x =  10.0\n",
            "type(x) は <class 'float'>\n",
            "x =  10\n",
            "type(x) は <class 'int'>\n",
            "x =  1.0\n",
            "type(x) は <class 'float'>\n"
          ]
        }
      ]
    },
    {
      "cell_type": "code",
      "source": [
        "# 3.3 文字列型:\n",
        "x = \"orange\"\n",
        "print(\"x = \", x)\n",
        "print(\"type(x) は\", type(x))\n",
        "print(\"xの最初の文字は\", x[0])\n",
        "print(\"xの3文字目は\", x[2])\n",
        "\n",
        "# 文字と数字を足し算する (重要度 星1)\n",
        "y = 10\n",
        "# print(y + \" yen\") ## このコードをコメントアウトするとエラーになります\n",
        "print(str(y) + \" yen\")\n",
        "#\n",
        "\n",
        "# f-string (重要度 星3)\n",
        "# f-string を使うと以下のように書くことができます．\n",
        "y = 10\n",
        "message = f\"{y} yen\"\n",
        "print(\"f-stringをつかった場合\", message)\n",
        "\n",
        "y = 10.258\n",
        "\n",
        "message = f\"{y:1.2f} yen\"\n",
        "print(\"f-stringをつかって小数点２桁だけ表示する場合\", message)\n",
        "\n",
        "message = f\"{y:1.1f} yen\"\n",
        "print(\"f-stringをつかった小数点1桁だけ表示する場合\", message)\n",
        "\n",
        "message = f\"{int(y):2d} yen\"\n",
        "print(\"f-stringをつかって整数だけ表示する場合\", message)\n",
        "\n",
        "message = f\"{int(y):04d} yen\"\n",
        "print(\"f-stringをつかって整数だけ表示する場合\", message)"
      ],
      "metadata": {
        "colab": {
          "base_uri": "https://localhost:8080/"
        },
        "id": "zy_R1NIBzHGL",
        "outputId": "e1ba821c-4c0e-4054-f392-42cce33cf117"
      },
      "execution_count": 82,
      "outputs": [
        {
          "output_type": "stream",
          "name": "stdout",
          "text": [
            "x =  orange\n",
            "type(x) は <class 'str'>\n",
            "xの最初の文字は o\n",
            "xの3文字目は a\n",
            "10 yen\n",
            "f-stringをつかった場合 10 yen\n",
            "f-stringをつかって小数点２桁だけ表示する場合 10.26 yen\n",
            "f-stringをつかった小数点1桁だけ表示する場合 10.3 yen\n",
            "f-stringをつかって整数だけ表示する場合 10 yen\n",
            "f-stringをつかって整数だけ表示する場合 0010 yen\n"
          ]
        }
      ]
    },
    {
      "cell_type": "code",
      "source": [
        "# Boolean 型: bool型\n",
        "# bool型で取り得る値はTrue かFalseの２つ\n",
        "x = True\n",
        "print(\"x = \", x)\n",
        "print(\"type(x)は\", type(x))"
      ],
      "metadata": {
        "colab": {
          "base_uri": "https://localhost:8080/"
        },
        "id": "PdVCjne961J-",
        "outputId": "1957fadc-00a3-4d5b-96d3-4868afb7c68a"
      },
      "execution_count": 86,
      "outputs": [
        {
          "output_type": "stream",
          "name": "stdout",
          "text": [
            "x =  True\n",
            "type(x)は <class 'bool'>\n"
          ]
        }
      ]
    },
    {
      "cell_type": "markdown",
      "source": [
        "## 04. データ構造について説明する\n",
        "ここでは，データ構造，List とDictについて学んでもらいます\n",
        "\n",
        "**ここで学ぶべきこと**\n",
        "1. List (重要度 星3)\n",
        "2. Dict (重要度 星3)"
      ],
      "metadata": {
        "id": "Rvy7l2Tkxk9W"
      }
    },
    {
      "cell_type": "markdown",
      "source": [
        "### 4.1 リスト型 (List)\n",
        "\n",
        "リスト型は、複数の要素を順序付けして格納するためのデータ構造です。\n",
        "\n",
        "**特徴:**\n",
        "\n",
        "*   **順序付け:** 要素は追加された順に並び、インデックス（添え字）を使ってアクセスします。インデックスは0から始まります。\n",
        "*   **変更可能 (Mutable):** 要素の追加、削除、変更が可能です。\n",
        "*   **異種のデータ:** 異なる型のデータを混在させて格納することができます（例: 整数、文字列、リストなど）。\n",
        "*   **重複の許容:** 同じ値を複数回格納することができます。\n",
        "\n",
        "**いつ使うか？**\n",
        "\n",
        "*   複数のデータをまとめて扱いたい場合。\n",
        "*   データの順序が重要な場合。\n",
        "*   要素の追加や削除が頻繁に行われる場合。\n",
        "\n",
        "**定義方法:**\n",
        "\n",
        "リストは角括弧 `[]` を使って定義します。要素はカンマ `,` で区切ります。"
      ],
      "metadata": {
        "id": "kkNAer6NPDhp"
      }
    },
    {
      "cell_type": "code",
      "source": [
        "# リストの基本操作 (重要度　星3)\n",
        "# python(プログラム)はインデックスは「0」から始まることに注意\n",
        "\n",
        "students = [\"田中\", \"佐藤\", \"山田\"]\n",
        "print(students)\n",
        "print(\"リストの先頭は\", students[0])\n",
        "print(\"リストの2番目は\", students[1])\n",
        "print(\"リストの3番目は\", students[2])\n",
        "# students[3] 　# コメントアウトするとエラーが発生する\n",
        "\n",
        "# 山田を鈴木に変えたい (重要度　星3)\n",
        "print(\"オリジナルのリスト\", students)\n",
        "students[2] = \"鈴木\"\n",
        "print(\"山田 to 鈴木 = \", students)\n"
      ],
      "metadata": {
        "colab": {
          "base_uri": "https://localhost:8080/"
        },
        "id": "C6PjVnZR9dAq",
        "outputId": "ea889666-a881-43a7-ecd4-1f52d3c08f7d"
      },
      "execution_count": 97,
      "outputs": [
        {
          "output_type": "stream",
          "name": "stdout",
          "text": [
            "['田中', '佐藤', '山田']\n",
            "リストの先頭は 田中\n",
            "リストの2番目は 佐藤\n",
            "リストの3番目は 山田\n",
            "オリジナルのリスト ['田中', '佐藤', '山田']\n",
            "山田 to 鈴木 =  ['田中', '佐藤', '鈴木']\n"
          ]
        }
      ]
    },
    {
      "cell_type": "code",
      "source": [
        "# リストの最後に田中を追加したい (重要度　星3)\n",
        "students = [\"田中\", \"佐藤\", \"山田\"]\n",
        "print(\"現在のリスト =\", students)\n",
        "students.append(\"田中\")\n",
        "print(\"田中を追加したリスト =\", students)\n",
        "\n",
        "# 注意(以下のコードは間違え) (重要度　星3)\n",
        "students = students.append(\"田中\")\n",
        "print(\"現在のリスト\", students)   # students.append()"
      ],
      "metadata": {
        "colab": {
          "base_uri": "https://localhost:8080/"
        },
        "id": "kq65-q1yKsoB",
        "outputId": "d1f8cc25-4a9f-4898-94ad-f9da38fb252c"
      },
      "execution_count": 106,
      "outputs": [
        {
          "output_type": "stream",
          "name": "stdout",
          "text": [
            "現在のリスト = ['田中', '佐藤', '山田']\n",
            "田中を追加したリスト = ['田中', '佐藤', '山田', '田中']\n",
            "現在のリスト None\n"
          ]
        }
      ]
    },
    {
      "cell_type": "code",
      "source": [
        "# リストを代入すると... (重要度　星2)\n",
        "students1 = [\"田中\", \"佐藤\", \"山田\"]\n",
        "students2 = students1\n",
        "print(\"students1 = \", students1)\n",
        "print(\"students2 = \", students2)\n",
        "\n",
        "# 佐藤を鈴木に変更\n",
        "students1[1] = \"鈴木\"\n",
        "print(\"students1 = \", students1)\n",
        "print(\"students2 = \", students2)  # students2 の２番目のメンバーが鈴木になっていることに注意"
      ],
      "metadata": {
        "colab": {
          "base_uri": "https://localhost:8080/"
        },
        "id": "ff6Q_rSvOxCX",
        "outputId": "ea87c057-a5d8-4d24-fcaf-722d55eae680"
      },
      "execution_count": 112,
      "outputs": [
        {
          "output_type": "stream",
          "name": "stdout",
          "text": [
            "students1 =  ['田中', '佐藤', '山田']\n",
            "students2 =  ['田中', '佐藤', '山田']\n",
            "students1 =  ['田中', '鈴木', '山田']\n",
            "students2 =  ['田中', '鈴木', '山田']\n"
          ]
        }
      ]
    },
    {
      "cell_type": "code",
      "source": [
        "# 要素を削除する (重要度　星2)\n",
        "students = [\"田中\", \"佐藤\", \"山田\"]\n",
        "\n",
        "# 山田を消す\n",
        "del students[2]\n",
        "print(\"students = \", students)\n",
        "\n",
        "# リストの２番めに，太郎左衛門を入れたい (重要度　星1);\n",
        "students.insert(1, \"太郎左衛門\")\n",
        "print(\"students = \", students)"
      ],
      "metadata": {
        "colab": {
          "base_uri": "https://localhost:8080/"
        },
        "id": "PgsgsJ9kP5rH",
        "outputId": "eaea470b-fcad-4811-86f8-3f4ad7b54027"
      },
      "execution_count": 116,
      "outputs": [
        {
          "output_type": "stream",
          "name": "stdout",
          "text": [
            "students =  ['田中', '佐藤']\n",
            "students =  ['田中', '太郎左衛門', '佐藤']\n"
          ]
        }
      ]
    },
    {
      "cell_type": "markdown",
      "source": [
        "### 4.2 辞書型 (Dict)\n",
        "\n",
        "辞書型は、キーと値のペアを格納するためのデータ構造です。他の言語ではハッシュマップや連想配列と呼ばれることもあります。\n",
        "\n",
        "**特徴:**\n",
        "\n",
        "*   **キーと値のペア:** 各要素は一意な「キー」とそれに対応する「値」から構成されます。\n",
        "*   **キーの一意性:** 同じ辞書内に重複するキーは存在できません。\n",
        "*   **順序:** Python 3.7 以降では挿入順序が保持されますが、それ以前のバージョンでは順序は保証されませんでした。一般的には順序に依存しない使い方をすることが推奨されます。\n",
        "*   **高速なデータ取得:** キーを指定することで、対応する値を非常に高速に取得できます。\n",
        "*   **可変:** 要素の追加、変更、削除が可能です。\n",
        "\n",
        "**いつ使うか？**\n",
        "\n",
        "*   特定の情報を名前（キー）で管理したい場合。\n",
        "*   設定情報などを保存する場合。\n",
        "*   データにラベルを付けてアクセスしたい場合。\n",
        "\n",
        "**定義方法:**\n",
        "\n",
        "辞書は波括弧 `{}` を使って定義します。キーと値はコロン `:` で区切り、各ペアはカンマ `,` で区切ります。"
      ],
      "metadata": {
        "id": "e-i3z8F8n0AD"
      }
    },
    {
      "cell_type": "code",
      "source": [
        "# 辞書型データの定義 (重要度 星３)\n",
        "member = {}\n",
        "member['name'] = \"山田\"\n",
        "member['age'] = \"関学\"\n",
        "\n",
        "print(\"member = \", member)\n",
        "print(\"type(a)は\", type(member))\n",
        "\n",
        "# 辞書型の別の定義 (重要度 星３)\n",
        "a = {\"name\": \"山田\", \"age\": \"関学\"}\n",
        "print(\"member = \", member)\n",
        "\n",
        "# キーを指定して値を取得する (重要度 星3)\n",
        "print(\"member[\\'name\\'] =\", member['name'])"
      ],
      "metadata": {
        "colab": {
          "base_uri": "https://localhost:8080/"
        },
        "id": "s2HWMKVMQVGi",
        "outputId": "425965d7-9155-4e7d-99a5-4a89d72e4c8e"
      },
      "execution_count": 16,
      "outputs": [
        {
          "output_type": "stream",
          "name": "stdout",
          "text": [
            "member =  {'name': '山田', 'age': '関学'}\n",
            "type(a)は <class 'dict'>\n",
            "member =  {'name': '山田', 'age': '関学'}\n",
            "member['name'] = 山田\n"
          ]
        }
      ]
    },
    {
      "cell_type": "code",
      "source": [
        "# キーのリストを取得する (重要度　星2)\n",
        "print(member.keys())\n",
        "\n",
        "# バリューのリストを取得する (重要度 星2)\n",
        "print(member.values())\n",
        "\n",
        "# キーと値のペアのリストを取得する (重要度 星2)\n",
        "print(member.items())"
      ],
      "metadata": {
        "colab": {
          "base_uri": "https://localhost:8080/"
        },
        "id": "z4wjhKbHQXZs",
        "outputId": "42974bc2-2581-4f46-d870-80a0929660c8"
      },
      "execution_count": 17,
      "outputs": [
        {
          "output_type": "stream",
          "name": "stdout",
          "text": [
            "dict_keys(['name', 'age'])\n",
            "dict_values(['山田', '関学'])\n",
            "dict_items([('name', '山田'), ('age', '関学')])\n"
          ]
        }
      ]
    },
    {
      "cell_type": "code",
      "source": [
        "# 要素を追加または更新する (重要度 星３)\n",
        "member['city'] = '神戸'\n",
        "print(\"member =\", member)\n",
        "\n",
        "# 要素を削除する (重要度 星２)\n",
        "del member['age']  # このセルを２回連続で実行すると・・・・\n",
        "print(\"member =\", member)\n",
        "\n",
        "# 辞書の長さを取得する (重要度 星１)\n",
        "print(len(member))\n",
        "\n",
        "# 辞書はどんなデータももつことができる (重要度 星3)\n",
        "member['list'] = [1, 2, 3, 4, 5]\n",
        "print(\"member =\", member)"
      ],
      "metadata": {
        "colab": {
          "base_uri": "https://localhost:8080/"
        },
        "id": "_IrA0Jbe42pM",
        "outputId": "79c3a759-56fd-4802-beb1-03567f2c58c8"
      },
      "execution_count": 18,
      "outputs": [
        {
          "output_type": "stream",
          "name": "stdout",
          "text": [
            "member = {'name': '山田', 'age': '関学', 'city': '神戸'}\n",
            "member = {'name': '山田', 'city': '神戸'}\n",
            "2\n",
            "member = {'name': '山田', 'city': '神戸', 'list': [1, 2, 3, 4, 5]}\n"
          ]
        }
      ]
    },
    {
      "cell_type": "markdown",
      "source": [
        "## 5. 条件分岐とループ\n",
        "\n",
        "Pythonに限らず，プログラムでは条件分岐とループを組み合わせて様々な処理を実現します\n",
        "\n",
        "**ここで学ぶべきこと**\n",
        "1. 真偽の判定 (重要度　星3)\n",
        "2. 条件分岐: ``` if```文の書き方 (重要度 星3)\n",
        "3. ループの書き方\n",
        "  1. ```for```文の書き方 (重要度 星3)\n",
        "  2. ```while```文の書き方 (重要度 星1)"
      ],
      "metadata": {
        "id": "L3w04XlaxU9v"
      }
    },
    {
      "cell_type": "markdown",
      "source": [
        "### 5.1. 真偽の判定\n",
        "\n",
        "真偽の判定は条件を満たしたら```True```, 満たしていなければ```False```となります"
      ],
      "metadata": {
        "id": "_q1mgVZ9Xdoh"
      }
    },
    {
      "cell_type": "code",
      "source": [
        "# 等式による真偽を判定する場合 (==で判定)\n",
        "print(\"1 == 1 は真？\", 1 == 1)\n",
        "print(\"1 == 2 は真？\", 1 == 2)\n",
        "\n",
        "# Not Equal による真偽を判定する場合 (!= で判定)\n",
        "print(\"1 != 1 は真？\", 1 != 1)\n",
        "print(\"1 != 2 は真？\", 1 != 2)\n",
        "\n",
        "# 不等式による真偽を判定する場合 (< ないし　>, <= ないし >=で判定)\n",
        "print(\"1 < 2 は真？\", 1 < 2)\n",
        "print(\"1 > 2 は真？\", 1 > 2)\n",
        "print(\"1 <= 2 は真？\", 1 <= 1)\n",
        "print(\"1 >= 2 は真？\", 1 >= 1)\n",
        "\n",
        "# リストの中にふくまれているかどうか判断する場合 (in もしくは not in を利用)\n",
        "candidates = [1, 2, 3, 4]\n",
        "print(f\"1 は {candidates}に含まれている? \", 1 in candidates)\n",
        "print(f\"1 は {candidates}に含まれていない? \", 1 not in candidates)\n",
        "\n",
        "del candidates[0] # 1を削除\n",
        "print(f\"1 は {candidates}に含まれていない? \", 1 not in candidates)"
      ],
      "metadata": {
        "colab": {
          "base_uri": "https://localhost:8080/"
        },
        "id": "O66RxwQXXadD",
        "outputId": "3760f41c-99b6-4224-d92a-c9830670089a"
      },
      "execution_count": 29,
      "outputs": [
        {
          "output_type": "stream",
          "name": "stdout",
          "text": [
            "1 == 1 は真？ True\n",
            "1 == 2 は真？ False\n",
            "1 != 1 は真？ False\n",
            "1 != 2 は真？ True\n",
            "1 < 2 は真？ True\n",
            "1 > 2 は真？ False\n",
            "1 <= 2 は真？ True\n",
            "1 >= 2 は真？ True\n",
            "1 は [1, 2, 3, 4]に含まれている?  True\n",
            "1 は [1, 2, 3, 4]に含まれていない?  False\n",
            "1 は [2, 3, 4]に含まれていない?  True\n"
          ]
        }
      ]
    },
    {
      "cell_type": "markdown",
      "source": [
        "### 5.2 ```if```文による条件分岐\n",
        "\n",
        "`if` 文は，指定した条件が `True` の場合にコードブロックを実行するために使用されます"
      ],
      "metadata": {
        "id": "yduJxll4ZCh7"
      }
    },
    {
      "cell_type": "code",
      "source": [
        "# 重要度　星3\n",
        "# フルーツのリスト\n",
        "fruits = ['apple', 'orange', 'grape']\n",
        "\n",
        "# fruit で指定された果物がリスト, fruitsにあれば以下のコードブロックが実行される.\n",
        "# インデントに注意\n",
        "# インデントのさせ方はtabを押す\n",
        "# インデントを戻したいときはshift + tab\n",
        "fruit = 'apple'\n",
        "if fruit in fruits:\n",
        "  print(f\"{fruit}はフルーツです!!\")\n",
        "\n",
        "# tomato は fruits に入っていないから以下のコードブロックが無視される\n",
        "fruit = 'tomato'\n",
        "if fruit in fruits:\n",
        "  print(f\"{fruit}はあります\")\n",
        "\n",
        "# 以下のコードをコメントアウトして実行してみよう\n",
        "# if True:\n",
        "#  print(\"hoge hoge\")\n",
        "\n",
        "# if False:\n",
        "#   print(\"hoge hoge\")"
      ],
      "metadata": {
        "colab": {
          "base_uri": "https://localhost:8080/"
        },
        "id": "7SMnqecmxRQI",
        "outputId": "4467b89a-face-44ac-9b3a-d03a308ff85c"
      },
      "execution_count": 39,
      "outputs": [
        {
          "output_type": "stream",
          "name": "stdout",
          "text": [
            "appleはフルーツです!!\n"
          ]
        }
      ]
    },
    {
      "cell_type": "markdown",
      "source": [
        "`if else` 文は与えられた条件が`True`の場合に最初のコードブロックが実行されます．与えられた条件が`False`の場合，次のコードブロックが実行されます．"
      ],
      "metadata": {
        "id": "OKlxkNV5bnkQ"
      }
    },
    {
      "cell_type": "code",
      "source": [
        "# 重要度 星3\n",
        "fruit = 'tomato'\n",
        "if fruit in fruits:\n",
        "  print(f\"{fruit}は果物です\")\n",
        "else:\n",
        "  print(f\"{fruit}は果物ではありません\")\n",
        "\n",
        "fruit = 'orange'\n",
        "if fruit in fruits:\n",
        "  print(f\"{fruit}は果物です\")\n",
        "else:\n",
        "  print(f\"{fruit}は果物ではありません\")"
      ],
      "metadata": {
        "colab": {
          "base_uri": "https://localhost:8080/"
        },
        "id": "I8v3nFO2bgP5",
        "outputId": "1dcbea34-13d2-42b7-e2d1-95f0fda8c3ef"
      },
      "execution_count": 46,
      "outputs": [
        {
          "output_type": "stream",
          "name": "stdout",
          "text": [
            "tomatoは果物ではありません\n",
            "orangeは果物です\n"
          ]
        }
      ]
    },
    {
      "cell_type": "markdown",
      "source": [
        "`if elif` 文は`if`で示された条件を満たしたとき，`if`以下のコードブロックが実行される．`if`を満たさないとき，続いて`elif`の条件判定が実施されて，もし条件を満たしていれば`elif`以下のコードブロックが実行される."
      ],
      "metadata": {
        "id": "WCfoq-r_cZLG"
      }
    },
    {
      "cell_type": "markdown",
      "source": [],
      "metadata": {
        "id": "n7Mm7U2ucYy7"
      }
    },
    {
      "cell_type": "code",
      "source": [
        "# 重要度 星1\n",
        "x = 3  # x=6の場合も試してみよう\n",
        "if x % 2 == 0:\n",
        "  print(f\"{x}は2の倍数です\")\n",
        "elif x % 3 == 0:\n",
        "  print(f\"{x}は3の倍数です\")\n",
        "\n",
        "\n",
        "x = 13\n",
        "if x % 2 == 0:\n",
        "  print(f\"{x}は2の倍数です\")\n",
        "elif x % 3 == 0:\n",
        "  print(f\"{x}は3の倍数です\")\n",
        "else:\n",
        "  print(f\"{x}は2の倍数・３の倍数のどちらでもありません\")"
      ],
      "metadata": {
        "colab": {
          "base_uri": "https://localhost:8080/"
        },
        "id": "huA6dQFxmOI9",
        "outputId": "f1bb56f4-f283-4654-ad69-c6a312aa0f54"
      },
      "execution_count": 54,
      "outputs": [
        {
          "output_type": "stream",
          "name": "stdout",
          "text": [
            "3は3の倍数です\n",
            "13は2の倍数・３の倍数のどちらでもありません\n"
          ]
        }
      ]
    },
    {
      "cell_type": "markdown",
      "metadata": {
        "id": "aadde422"
      },
      "source": [
        "### 5.2 ループ (for, while)\n",
        "\n",
        "ループを使うと、同じコードブロックを繰り返し実行することができます。Pythonには主に `for` ループと `while` ループがあります。\n",
        "\n",
        "**for ループ:**\n",
        "\n",
        "シーケンス (リスト、タプル、文字列など) やイテレーターの要素を順番に取り出して処理する場合に使います。"
      ]
    },
    {
      "cell_type": "code",
      "source": [
        "# リストを使った for ループ (重要度　星３)\n",
        "fruits = [\"apple\", \"banana\", \"cherry\"]\n",
        "for fruit in fruits:\n",
        "  print(fruit)\n",
        "\n",
        "print(\"\\n\")\n",
        "\n",
        "# enumerate を使うと番号も併せてつけることができる (重要度　星３)\n",
        "for m, fruit in enumerate(fruits):\n",
        "  print(m, fruit)"
      ],
      "metadata": {
        "colab": {
          "base_uri": "https://localhost:8080/"
        },
        "id": "6JS2MjwQ3oWb",
        "outputId": "6a339ef6-7bcf-4c2f-8108-40461f3ad8dd"
      },
      "execution_count": 65,
      "outputs": [
        {
          "output_type": "stream",
          "name": "stdout",
          "text": [
            "apple\n",
            "banana\n",
            "cherry\n",
            "\n",
            "\n",
            "0 apple\n",
            "1 banana\n",
            "2 cherry\n"
          ]
        }
      ]
    },
    {
      "cell_type": "code",
      "source": [
        "# range() を使った for ループ (指定した回数だけ繰り返す)  (重要度　星3)\n",
        "for i in range(5):\n",
        "  print(i, end=' ')\n",
        "\n",
        "print(end='\\n')\n",
        "\n",
        "# 0から始めるのではなく，1から5までカウントする場合 (重要度　星1)\n",
        "for i in range(1, 6):\n",
        "  print(i, end=' ')"
      ],
      "metadata": {
        "colab": {
          "base_uri": "https://localhost:8080/"
        },
        "id": "dmWvCvOy3-So",
        "outputId": "d57b22f8-6403-425f-8ba2-d630df37e4ee"
      },
      "execution_count": 66,
      "outputs": [
        {
          "output_type": "stream",
          "name": "stdout",
          "text": [
            "0 1 2 3 4 \n",
            "1 2 3 4 5 "
          ]
        }
      ]
    },
    {
      "cell_type": "code",
      "source": [
        "# dict に対するループ (重要度 星3)\n",
        "member = {'name': \"山田\", \"oganization\": \"関学\"}\n",
        "\n",
        "print(\"keyの列挙\")\n",
        "for key in member.keys():\n",
        "   print(key)\n",
        "\n",
        "print(\"\\n\")\n",
        "print(\"key, value の列挙\")\n",
        "for key, value in member.items():\n",
        "  print(key, value)\n"
      ],
      "metadata": {
        "colab": {
          "base_uri": "https://localhost:8080/"
        },
        "id": "GirEA6lj4bk-",
        "outputId": "f2168911-c5ba-4d85-b53a-53739172f8c4"
      },
      "execution_count": 69,
      "outputs": [
        {
          "output_type": "stream",
          "name": "stdout",
          "text": [
            "keyの列挙\n",
            "name\n",
            "oganization\n",
            "\n",
            "\n",
            "key, value の列挙\n",
            "name 山田\n",
            "oganization 関学\n"
          ]
        }
      ]
    },
    {
      "cell_type": "code",
      "metadata": {
        "colab": {
          "base_uri": "https://localhost:8080/"
        },
        "id": "880e388e",
        "outputId": "8f222257-93a3-49f7-e6c7-81b76b5d9dfc"
      },
      "source": [
        "# zip (重要度 星1)\n",
        "A = [1, 2]\n",
        "B = ['apple', 'orange']\n",
        "\n",
        "for a, b in zip(A, B):\n",
        "  print(a, b)"
      ],
      "execution_count": 70,
      "outputs": [
        {
          "output_type": "stream",
          "name": "stdout",
          "text": [
            "1 apple\n",
            "2 orange\n"
          ]
        }
      ]
    },
    {
      "cell_type": "markdown",
      "metadata": {
        "id": "8fc64811"
      },
      "source": [
        "**while ループ:**\n",
        "\n",
        "特定の条件が真である間、コードブロックを繰り返し実行します。条件が偽になった時点でループを終了します。"
      ]
    },
    {
      "cell_type": "code",
      "metadata": {
        "colab": {
          "base_uri": "https://localhost:8080/"
        },
        "id": "58df38a4",
        "outputId": "2ed2555a-3762-4796-ff7a-509820861d8e"
      },
      "source": [
        "# while ループ (重要度 星1)\n",
        "count = 0\n",
        "while count < 5:\n",
        "  print(count)\n",
        "  count += 1 # カウンターを increment するのを忘れないように！"
      ],
      "execution_count": 12,
      "outputs": [
        {
          "output_type": "stream",
          "name": "stdout",
          "text": [
            "0\n",
            "1\n",
            "2\n",
            "3\n",
            "4\n"
          ]
        }
      ]
    },
    {
      "cell_type": "markdown",
      "source": [
        "## 6. 関数\n",
        "関数は，特定のタスクを実行するコードブロックを一つにまとめたもの．関数を使うことで, コードの繰り返しを避け, プログラムを整理し, 読みやすく, メンテナンスしやすくすることができる\n",
        "\n",
        "**ここで学ぶべきこと**\n",
        "1. 関数の定義\n",
        "2. 関数のスコープ"
      ],
      "metadata": {
        "id": "VW1SnYVs9JIW"
      }
    },
    {
      "cell_type": "code",
      "source": [
        "# 関数は以下のように定義される (重要度　星1)\n",
        "#\n",
        "# def 関数名(引数)\n",
        "#   return 戻り値\n",
        "#\n",
        "def add(x, y):\n",
        "  return x + y\n",
        "\n",
        "a = 2\n",
        "b = 5\n",
        "print(\"add(a=2, b=5) =\", add(a, b))\n",
        "\n",
        "# 関数のスコープ (重要度　星1)\n",
        "def add2(a, b):\n",
        "  c = a + b\n",
        "\n",
        "  return c\n",
        "\n",
        "a = 2\n",
        "b = 5\n",
        "print(\"add2(a=2, b=5)=\", add2(a, b))\n",
        "\n",
        "# 関数内で定義された変数は関数の外からみることはできない\n",
        "# print(c)  # この行をコメントアウトをするとエラーがでる．\n",
        "\n",
        "# 関数のスコープ その２ (重要度 星1)\n",
        "# 関数の外で定義された変数はグローバル変数なので関数の中でも見れる\n",
        "# 関数の中で閉じる処理をしてなくても動いてしまうというバグの要因になる\n",
        "z = 4\n",
        "\n",
        "def add3(a, b):\n",
        "  return a + b + z\n",
        "\n",
        "print(\"add3(a=2, b=5)=\", add3(a, b))"
      ],
      "metadata": {
        "colab": {
          "base_uri": "https://localhost:8080/"
        },
        "id": "mkPgfRdY7bmT",
        "outputId": "1c5cfac0-166b-4e6a-861d-1517f5bb9e97"
      },
      "execution_count": 85,
      "outputs": [
        {
          "output_type": "stream",
          "name": "stdout",
          "text": [
            "add(a=2, b=5) = 7\n",
            "add2(a=2, b=5)= 7\n",
            "add3(a=2, b=5)= 11\n"
          ]
        }
      ]
    },
    {
      "cell_type": "markdown",
      "source": [
        "### 練習問題\n",
        "1. 1から20までカウントして，そのうち**偶数**の場合だけ表示して\n",
        "2. 1から20までカウントして，そのうち**奇数**の場合だけ表示して\n",
        "3. 1から20までカウントして, 偶数の場合はeven, 奇数の場合はoddと表示するようにして\n",
        "4. 1から20までの整数で**奇数だけを格納したリスト**を作成して\n",
        "\n",
        "Hint: 空のリストを最初に作成して，そのリストにappendするとよい"
      ],
      "metadata": {
        "id": "JgPEDx2tD0P0"
      }
    },
    {
      "cell_type": "code",
      "source": [
        "## 解答"
      ],
      "metadata": {
        "id": "BVlAfMRmDzIP"
      },
      "execution_count": 71,
      "outputs": []
    }
  ]
}