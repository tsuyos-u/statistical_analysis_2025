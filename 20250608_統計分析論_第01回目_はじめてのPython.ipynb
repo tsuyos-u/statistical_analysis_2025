{
  "nbformat": 4,
  "nbformat_minor": 0,
  "metadata": {
    "colab": {
      "provenance": [],
      "authorship_tag": "ABX9TyPelWkLIWED6r4ePGVcxXMg",
      "include_colab_link": true
    },
    "kernelspec": {
      "name": "python3",
      "display_name": "Python 3"
    },
    "language_info": {
      "name": "python"
    }
  },
  "cells": [
    {
      "cell_type": "markdown",
      "metadata": {
        "id": "view-in-github",
        "colab_type": "text"
      },
      "source": [
        "<a href=\"https://colab.research.google.com/github/tsuyos-u/statistical_analysis_2025/blob/master/20250608_%E7%B5%B1%E8%A8%88%E5%88%86%E6%9E%90%E8%AB%96_%E7%AC%AC01%E5%9B%9E%E7%9B%AE_%E3%81%AF%E3%81%98%E3%82%81%E3%81%A6%E3%81%AEPython.ipynb\" target=\"_parent\"><img src=\"https://colab.research.google.com/assets/colab-badge.svg\" alt=\"Open In Colab\"/></a>"
      ]
    },
    {
      "cell_type": "markdown",
      "source": [
        "# 20250605 統計分析論 はじめてのPython\n",
        "\n",
        "このノートブックでは, 次の内容について説明をおこないます.\n",
        "1. **Hello World !!**\n",
        "2. **Pythonを電卓として使う**\n",
        "3. **変数**\n",
        "4. **データ構造**\n",
        "5. **条件分岐とループ**\n",
        "6. **関数**\n"
      ],
      "metadata": {
        "id": "ztO8XCiRqwEk"
      }
    },
    {
      "cell_type": "markdown",
      "source": [
        "## 01. Hello World !"
      ],
      "metadata": {
        "id": "fhzLn3Z_t0vr"
      }
    },
    {
      "cell_type": "code",
      "source": [
        "# \" \" で区切ると文字が書ける. 実行するときは shift + return\n",
        "\"Hello World !\""
      ],
      "metadata": {
        "colab": {
          "base_uri": "https://localhost:8080/",
          "height": 35
        },
        "id": "hOmR-WpT0-yW",
        "outputId": "c0a83616-442b-47c6-fbd5-565e79c17c5c"
      },
      "execution_count": 1,
      "outputs": [
        {
          "output_type": "execute_result",
          "data": {
            "text/plain": [
              "'Hello World !'"
            ],
            "application/vnd.google.colaboratory.intrinsic+json": {
              "type": "string"
            }
          },
          "metadata": {},
          "execution_count": 1
        }
      ]
    },
    {
      "cell_type": "code",
      "metadata": {
        "colab": {
          "base_uri": "https://localhost:8080/",
          "height": 35
        },
        "id": "77e6f139",
        "outputId": "c39329d5-c3bc-442f-bdb3-c1c5f8f4705e"
      },
      "source": [
        "# ' ' で区切っても文字がかける\n",
        "'Hello World !'"
      ],
      "execution_count": 2,
      "outputs": [
        {
          "output_type": "execute_result",
          "data": {
            "text/plain": [
              "'Hello World !'"
            ],
            "application/vnd.google.colaboratory.intrinsic+json": {
              "type": "string"
            }
          },
          "metadata": {},
          "execution_count": 2
        }
      ]
    },
    {
      "cell_type": "code",
      "source": [
        "# 以下のようにすると結果は最後しか表示されない\n",
        "\"Hello World 1\"\n",
        "\"Hello World 2\""
      ],
      "metadata": {
        "colab": {
          "base_uri": "https://localhost:8080/",
          "height": 35
        },
        "id": "Y6nT30t4qoff",
        "outputId": "c9bed873-42d0-4a12-b74e-8093cf1cb613"
      },
      "execution_count": 3,
      "outputs": [
        {
          "output_type": "execute_result",
          "data": {
            "text/plain": [
              "'Hello World 2'"
            ],
            "application/vnd.google.colaboratory.intrinsic+json": {
              "type": "string"
            }
          },
          "metadata": {},
          "execution_count": 3
        }
      ]
    },
    {
      "cell_type": "code",
      "source": [
        "# print を使うと両方表示できる\n",
        "print(\"Hello World 1\")\n",
        "print(\"Hello World 2\")"
      ],
      "metadata": {
        "colab": {
          "base_uri": "https://localhost:8080/"
        },
        "id": "xSjmAWNMtofw",
        "outputId": "97af62c7-1d0f-4161-87c2-76876f0b2930"
      },
      "execution_count": 4,
      "outputs": [
        {
          "output_type": "stream",
          "name": "stdout",
          "text": [
            "Hello World 1\n",
            "Hello World 2\n"
          ]
        }
      ]
    },
    {
      "cell_type": "code",
      "source": [
        "# 以下のように打つと．．．どうなる?\n",
        "# Hello World"
      ],
      "metadata": {
        "id": "1zpowcRH3HIs"
      },
      "execution_count": 5,
      "outputs": []
    },
    {
      "cell_type": "markdown",
      "source": [
        "## 02. Pythonを電卓として使う"
      ],
      "metadata": {
        "id": "GFJUgBwC4b8Y"
      }
    },
    {
      "cell_type": "code",
      "source": [
        "# 足し算\n",
        "10 + 6\n",
        "\n",
        "# 引き算\n",
        "# 10 - 2\n",
        "\n",
        "# 割り算\n",
        "# 10 / 2\n",
        "\n",
        "# 整数の割り算であまりの計算\n",
        "# 商を計算\n",
        "# 11 // 2\n",
        "# 余りを計算\n",
        "# 11 % 2\n",
        "\n",
        "# 浮動小数点の商と余り\n",
        "# 11.6 // 2\n",
        "# 11.6 % 2\n",
        "\n",
        "# 10.44 * 25\n",
        "\n",
        "# 累乗\n",
        "# 2 ** 3\n",
        "\n",
        "# 大きい数を書くときはこういうこともできる\n",
        "# 1e8 * 2\n",
        "\n",
        "# こんなこともできる\n",
        "# \"統計分析論 \" * 2\n",
        "# \"統計\" + \"分析論\""
      ],
      "metadata": {
        "colab": {
          "base_uri": "https://localhost:8080/"
        },
        "id": "kJ0cJgyPt9_1",
        "outputId": "941b0414-f229-43b8-b5d2-83de959f8ae1",
        "collapsed": true
      },
      "execution_count": 6,
      "outputs": [
        {
          "output_type": "execute_result",
          "data": {
            "text/plain": [
              "16"
            ]
          },
          "metadata": {},
          "execution_count": 6
        }
      ]
    },
    {
      "cell_type": "markdown",
      "source": [
        "## 03. 変数を定義する"
      ],
      "metadata": {
        "id": "hDHmiUEDHHVe"
      }
    },
    {
      "cell_type": "code",
      "source": [
        "\"\"\" 変数を定義する \"\"\"\n",
        "\n",
        "# 整数型: int型\n",
        "x = 10\n",
        "# print(x)\n",
        "# type(x)\n",
        "\n",
        "# 浮動小数点型: float型\n",
        "# x = 10.0\n",
        "# print(x)\n",
        "# type(x)\n",
        "\n",
        "# x = int(10.4)\n",
        "# print(x)\n",
        "# type(x)\n",
        "\n",
        "# x = float(1)\n",
        "# print(x)\n",
        "\n",
        "# 文字列型: string\n",
        "# x = \"string\"\n",
        "# print(x)\n",
        "# print(type(x))\n",
        "# print(x[0])\n",
        "\n",
        "# y = 10\n",
        "# print(y + \" yen\")\n",
        "# print(str(y) + \" yen\")\n",
        "#\n",
        "\n",
        "# f-string\n",
        "# y = 10\n",
        "# print(f\"{y} yen\")\n",
        "\n",
        "\n",
        "# Boolean 型:\n",
        "# x = True\n",
        "# print(x)\n",
        "# print(type(x))\n",
        "\n",
        "# もし定義していない変数を選択すると？\n",
        "# X\n"
      ],
      "metadata": {
        "id": "UU2C32e8weRS"
      },
      "execution_count": 7,
      "outputs": []
    },
    {
      "cell_type": "markdown",
      "source": [
        "## 04. データ構造について説明する"
      ],
      "metadata": {
        "id": "Rvy7l2Tkxk9W"
      }
    },
    {
      "cell_type": "code",
      "metadata": {
        "id": "dc7e088c",
        "colab": {
          "base_uri": "https://localhost:8080/"
        },
        "outputId": "ef000036-9b34-47c0-9d50-ec7961f3c3ac"
      },
      "source": [
        "# リスト: List\n",
        "\n",
        "students = [\"田中\", \"佐藤\", \"山田\"]\n",
        "print(students)\n",
        "# print(students[0])\n",
        "# print(students[1])\n",
        "# print(students[2])\n",
        "# print(students[3])\n",
        "\n",
        "# 山田を鈴木に変えたい (重要度　星3)\n",
        "# print(students)\n",
        "# students[2] = \"鈴木\"\n",
        "# print(students)\n",
        "\n",
        "# リストの最後に田中を追加したい (重要度　星3)\n",
        "print(students)\n",
        "students.append(\"田中\")\n",
        "print(students)\n",
        "\n",
        "# 注意(以下のコードは間違え) (重要度　星3)\n",
        "# students = students.append(\"田中\")\n",
        "\n",
        "# リストを代入すると... (重要度　星2)\n",
        "# students2 = students\n",
        "# del students[1]\n",
        "# print(students2)\n",
        "\n",
        "# 山田を消したい．(重要度　星2)\n",
        "# del students[2]\n",
        "# print(students)\n",
        "# del students[2]\n",
        "\n",
        "# リストの２番めに，太郎左衛門を入れたい (重要度　星1);\n",
        "# students.insert(1, \"太郎左衛門\")\n",
        "# print(students)"
      ],
      "execution_count": 8,
      "outputs": [
        {
          "output_type": "stream",
          "name": "stdout",
          "text": [
            "['田中', '佐藤', '山田']\n",
            "['田中', '佐藤', '山田']\n",
            "['田中', '佐藤', '山田', '田中']\n"
          ]
        }
      ]
    },
    {
      "cell_type": "markdown",
      "source": [
        "### 4.2 辞書型 (Dict)\n",
        "\n",
        "辞書型は、キーと値のペアを格納するためのデータ構造です。他の言語ではハッシュマップや連想配列と呼ばれることもあります。\n",
        "\n",
        "**特徴:**\n",
        "\n",
        "*   **キーと値のペア:** 各要素は一意な「キー」とそれに対応する「値」から構成されます。\n",
        "*   **キーの一意性:** 同じ辞書内に重複するキーは存在できません。\n",
        "*   **順序:** Python 3.7 以降では挿入順序が保持されますが、それ以前のバージョンでは順序は保証されませんでした。一般的には順序に依存しない使い方をすることが推奨されます。\n",
        "*   **高速なデータ取得:** キーを指定することで、対応する値を非常に高速に取得できます。\n",
        "*   **可変:** 要素の追加、変更、削除が可能です。\n",
        "\n",
        "**いつ使うか？**\n",
        "\n",
        "*   特定の情報を名前（キー）で管理したい場合。\n",
        "*   設定情報などを保存する場合。\n",
        "*   データにラベルを付けてアクセスしたい場合。\n",
        "\n",
        "**定義方法:**\n",
        "\n",
        "辞書は波括弧 `{}` を使って定義します。キーと値はコロン `:` で区切り、各ペアはカンマ `,` で区切ります。"
      ],
      "metadata": {
        "id": "e-i3z8F8n0AD"
      }
    },
    {
      "cell_type": "code",
      "source": [
        "# 辞書型データの定義 (重要度 星３)\n",
        "a = {}\n",
        "a['name'] = \"山田\"\n",
        "a['age'] = \"関学\"\n",
        "print(a)\n",
        "print(type(a))\n",
        "\n",
        "# 辞書型の別の定義 (重要度 星３)\n",
        "a = {\"name\": \"山田\", \"age\": \"関学\"}\n",
        "print(a)\n",
        "\n",
        "# キーを指定して値を取得する (重要度 星３)\n",
        "print(a['name'])\n",
        "\n",
        "# キーが存在しない場合にエラーを防ぐ (重要度 星２)\n",
        "# print(a['gender']) # This would cause an error\n",
        "print(a.get('gender')) # Returns None if the key is not found\n",
        "print(a.get('gender', '不明')) # Returns '不明' if the key is not found\n",
        "\n",
        "# キーのリストを取得する (重要度 星２)\n",
        "print(a.keys())\n",
        "\n",
        "# 値のリストを取得する (重要度 星２)\n",
        "print(a.values())\n",
        "\n",
        "# キーと値のペアのリストを取得する (重要度 星２)\n",
        "print(a.items())\n",
        "\n",
        "# 要素を追加または更新する (重要度 星３)\n",
        "a['city'] = '神戸'\n",
        "print(a)\n",
        "\n",
        "# 要素を削除する (重要度 星２)\n",
        "del a['age']\n",
        "print(a)\n",
        "\n",
        "# 辞書の長さを取得する (重要度 星１)\n",
        "print(len(a))\n",
        "\n",
        "# 辞書はどんなデータももつことができる (重要度 星3)\n",
        "a['list'] = [1, 2, 3, 4, 5]\n",
        "print(a)"
      ],
      "metadata": {
        "colab": {
          "base_uri": "https://localhost:8080/"
        },
        "id": "_IrA0Jbe42pM",
        "outputId": "1ce15187-465a-41a6-f5cc-1faee3fbc48e"
      },
      "execution_count": 9,
      "outputs": [
        {
          "output_type": "stream",
          "name": "stdout",
          "text": [
            "{'name': '山田', 'age': '関学'}\n",
            "<class 'dict'>\n",
            "{'name': '山田', 'age': '関学'}\n",
            "山田\n",
            "None\n",
            "不明\n",
            "dict_keys(['name', 'age'])\n",
            "dict_values(['山田', '関学'])\n",
            "dict_items([('name', '山田'), ('age', '関学')])\n",
            "{'name': '山田', 'age': '関学', 'city': '神戸'}\n",
            "{'name': '山田', 'city': '神戸'}\n",
            "2\n",
            "{'name': '山田', 'city': '神戸', 'list': [1, 2, 3, 4, 5]}\n"
          ]
        }
      ]
    },
    {
      "cell_type": "markdown",
      "source": [
        "## 5. 条件分岐とループ"
      ],
      "metadata": {
        "id": "L3w04XlaxU9v"
      }
    },
    {
      "cell_type": "code",
      "source": [
        "# 真偽を判定する\n",
        "\n",
        "# 等式による真偽を判定する場合\n",
        "# 1 == 1\n",
        "# 1 == 2\n",
        "\n",
        "# Not Equal による真偽を判定する場合\n",
        "# 1 != 1\n",
        "# 1 != 2\n",
        "\n",
        "# 不等式による真偽を判定する場合\n",
        "# 1 < 2\n",
        "# 1 > 2\n",
        "# 1 <= 1\n",
        "# 1 >= 1\n",
        "\n",
        "# リストの中にふくまれているかどうか判断する場合\n",
        "# 1 in [1, 2, 3, 4]\n",
        "# 1 not in [1, 2, 3, 4]\n",
        "# 1 not in [2, 3, 4]\n",
        "\n",
        "candidates = ['apple', 'orange', 'grape']\n",
        "a = 'apple'\n",
        "\n",
        "if a in candidates:\n",
        "  print(\"りんごはあります!!\")\n",
        "\n",
        "a = 'banana'\n",
        "if a in candidates:\n",
        "  print(\"りんごはあります\")\n",
        "\n"
      ],
      "metadata": {
        "colab": {
          "base_uri": "https://localhost:8080/"
        },
        "id": "7SMnqecmxRQI",
        "outputId": "50ccaad9-6fcf-4a5c-f2d3-9bb4d0dc2132"
      },
      "execution_count": 10,
      "outputs": [
        {
          "output_type": "stream",
          "name": "stdout",
          "text": [
            "りんごはあります!!\n"
          ]
        }
      ]
    },
    {
      "cell_type": "markdown",
      "metadata": {
        "id": "aadde422"
      },
      "source": [
        "### 5.2 ループ (for, while)\n",
        "\n",
        "ループを使うと、同じコードブロックを繰り返し実行することができます。Pythonには主に `for` ループと `while` ループがあります。\n",
        "\n",
        "**for ループ:**\n",
        "\n",
        "シーケンス (リスト、タプル、文字列など) やイテレーターの要素を順番に取り出して処理する場合に使います。"
      ]
    },
    {
      "cell_type": "code",
      "metadata": {
        "colab": {
          "base_uri": "https://localhost:8080/"
        },
        "id": "880e388e",
        "outputId": "39b7fe95-364c-4a40-90c0-482f6a25f5ba"
      },
      "source": [
        "# リストを使った for ループ\n",
        "# fruits = [\"apple\", \"banana\", \"cherry\"]\n",
        "# for fruit in fruits:\n",
        "#   print(fruit)\n",
        "\n",
        "# for m, fruit in enumerate(fruits):\n",
        "#   print(m, fruit)\n",
        "\n",
        "# range() を使った for ループ (指定した回数だけ繰り返す)\n",
        "# for i in range(5):\n",
        "#   print(i)\n",
        "\n",
        "# 0から始めるのではなく，1から5までカウントする場合\n",
        "# for i in range(1, 6):\n",
        "#   print(i)\n",
        "\n",
        "\n",
        "# dict に対するループ (重要度 星3)\n",
        "# member = {'name': \"山田\", \"oganization\": \"関学\"}\n",
        "\n",
        "# for key in member.keys():\n",
        "#   print(key)\n",
        "# for key, value in member.items():\n",
        "#   print(key, value)\n",
        "\n",
        "# zip (重要度 星1)\n",
        "A = [1, 2]\n",
        "B = ['apple', 'orange']\n",
        "\n",
        "for a, b in zip(A, B):\n",
        "  print(a, b)"
      ],
      "execution_count": 11,
      "outputs": [
        {
          "output_type": "stream",
          "name": "stdout",
          "text": [
            "1 apple\n",
            "2 orange\n"
          ]
        }
      ]
    },
    {
      "cell_type": "markdown",
      "metadata": {
        "id": "8fc64811"
      },
      "source": [
        "**while ループ:**\n",
        "\n",
        "特定の条件が真である間、コードブロックを繰り返し実行します。条件が偽になった時点でループを終了します。"
      ]
    },
    {
      "cell_type": "code",
      "metadata": {
        "colab": {
          "base_uri": "https://localhost:8080/"
        },
        "id": "58df38a4",
        "outputId": "2ed2555a-3762-4796-ff7a-509820861d8e"
      },
      "source": [
        "# while ループ (重要度 星1)\n",
        "count = 0\n",
        "while count < 5:\n",
        "  print(count)\n",
        "  count += 1 # カウンターを increment するのを忘れないように！"
      ],
      "execution_count": 12,
      "outputs": [
        {
          "output_type": "stream",
          "name": "stdout",
          "text": [
            "0\n",
            "1\n",
            "2\n",
            "3\n",
            "4\n"
          ]
        }
      ]
    },
    {
      "cell_type": "markdown",
      "source": [
        "### 練習問題\n",
        "1. 1から20までカウントして，そのうち**偶数**の場合だけ表示して\n",
        "2. 1から20までカウントして，そのうち**奇数**の場合だけ表示して\n",
        "3. 1から20までカウントして, 偶数の場合はeven, 奇数の場合はoddと表示するようにして\n",
        "4. 1から20までの整数で**奇数だけを格納したリスト**を作成して\n",
        "\n",
        "Hint: 空のリストを最初に作成して，そのリストにappendするとよい"
      ],
      "metadata": {
        "id": "JgPEDx2tD0P0"
      }
    },
    {
      "cell_type": "code",
      "source": [
        "## 解答\n"
      ],
      "metadata": {
        "id": "BVlAfMRmDzIP"
      },
      "execution_count": 13,
      "outputs": []
    },
    {
      "cell_type": "code",
      "source": [
        "\"\"\" 関数の使い方 (重要度 星1) \"\"\"\n",
        "\n",
        "def add1(a, b):\n",
        "  return a + b\n",
        "\n",
        "a = 2\n",
        "b = 5\n",
        "add1(a, b)\n",
        "\n",
        "\"\"\" 注意すべきこと. 関数とスコープ (重要度 星1) \"\"\"\n",
        "def add2(a, b):\n",
        "  c = a + b\n",
        "  return c\n",
        "\n",
        "add2(a, b)\n",
        "# print(c)\n",
        "\n",
        "# 関数の中で定義された変数 (c) は関数の外からはアクセスできません。\n",
        "# Pythonでは、関数の外で定義された変数はグローバル変数と呼ばれ、関数の中から参照できます。\n",
        "\"\"\"\n",
        "unknown = 100\n",
        "def add3(a, b):\n",
        "  # ここでは外で定義された unknown を参照しています\n",
        "  y = a + unknown\n",
        "  return y\n",
        "\n",
        "y = add3(0, 3)\n",
        "\"\"\"\n",
        "\n",
        "def add4(a, b):\n",
        "  y = a + unknown\n",
        "  unknown = 200 # そとで定義された変数と同じ名前を使います\n",
        "  return y\n",
        "\n",
        "# y = add4(0, 4)\n",
        "# print(y)"
      ],
      "metadata": {
        "id": "cYOP2U9yF2Ho"
      },
      "execution_count": 26,
      "outputs": []
    },
    {
      "cell_type": "code",
      "source": [],
      "metadata": {
        "id": "xCt0AAdkB2QE"
      },
      "execution_count": 14,
      "outputs": []
    }
  ]
}